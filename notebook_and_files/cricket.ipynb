{
  "nbformat": 4,
  "nbformat_minor": 0,
  "metadata": {
    "colab": {
      "name": "Complex Networks.ipynb",
      "provenance": [],
      "collapsed_sections": [],
      "toc_visible": true
    },
    "kernelspec": {
      "name": "python3",
      "display_name": "Python 3"
    }
  },
  "cells": [
    {
      "cell_type": "code",
      "metadata": {
        "id": "RelOlnW4WFMm"
      },
      "source": [
        "###################################################\n",
        "# Name : Bhargey Mehta\n",
        "# SID  : 201701074\n",
        "# Info : Complex Networks - Project\n",
        "###################################################\n",
        "\n",
        "import networkx as nx\n",
        "import pandas as pd\n",
        "import matplotlib.pyplot as plt\n",
        "import numpy as np"
      ],
      "execution_count": 1,
      "outputs": []
    },
    {
      "cell_type": "markdown",
      "metadata": {
        "id": "llCXlxtfROCq"
      },
      "source": [
        "# Career Averages"
      ]
    },
    {
      "cell_type": "code",
      "metadata": {
        "id": "GMcsfzS1NqYb"
      },
      "source": [
        "def get_batting_career_avg():\n",
        "    bat = pd.read_csv('batsmen_averages.csv')\n",
        "    \n",
        "    batsmen = np.array(bat['batsman'])\n",
        "    runs = np.array(bat['total_runs'])\n",
        "    innings = np.array(bat['total_innings'])\n",
        "    \n",
        "    avg = runs / innings\n",
        "    \n",
        "    bat_career_avg = {}\n",
        "    for i, batsman in enumerate(batsmen):\n",
        "        bat_career_avg[batsman] = avg[i]\n",
        "\n",
        "    return bat_career_avg\n",
        "\n",
        "def get_bowling_career_avg():\n",
        "    ball = pd.read_csv('bowlers_averages.csv')\n",
        "    \n",
        "    bowlers = np.array(ball['bowler'])\n",
        "    runs = np.array(ball['total_runs'])\n",
        "    dismisses = np.array(ball['total_dismisses'])\n",
        "    \n",
        "    avg = runs / np.maximum(np.ones(dismisses.shape), dismisses)\n",
        "    \n",
        "    ball_career_avg = {}\n",
        "    for i, bowler in enumerate(bowlers):\n",
        "        ball_career_avg[bowler] = avg[i]\n",
        "\n",
        "    return ball_career_avg"
      ],
      "execution_count": 2,
      "outputs": []
    },
    {
      "cell_type": "markdown",
      "metadata": {
        "id": "NFEMNlIJyqU2"
      },
      "source": [
        "# PageRank"
      ]
    },
    {
      "cell_type": "code",
      "metadata": {
        "id": "l1Bd4S65yr3s"
      },
      "source": [
        "def get_out_strengths(G):\n",
        "    out_strengths = {}\n",
        "    for node in G.nodes():\n",
        "        out_strengths[node] = 0\n",
        "        for edge in G.out_edges(node, data=True):\n",
        "            out_strengths[node] += edge[2]['weight']\n",
        "    return out_strengths\n",
        "\n",
        "def get_in_strengths(G):\n",
        "    in_strengths = {}\n",
        "    for node in G.nodes():\n",
        "        in_strengths[node] = 0\n",
        "        for edge in G.in_edges(node, data=True):\n",
        "            in_strengths[node] += edge[2]['weight']\n",
        "    return in_strengths\n",
        "\n",
        "def get_D_inv(G):\n",
        "    out_strengths = get_out_strengths(G)\n",
        "    n = len(out_strengths)\n",
        "    D_inv = np.zeros(shape=(n, n))\n",
        "    for index, node in enumerate(G.nodes()):\n",
        "        if out_strengths[node] == 0:\n",
        "            D_inv[index][index] = 1\n",
        "        else:\n",
        "            D_inv[index][index] = 1 / out_strengths[node]\n",
        "    return D_inv\n",
        "\n",
        "def pageRank(A, Dinv, iters, G, q = 0.15):\n",
        "    conv_history = []\n",
        "\n",
        "    n = len(A)\n",
        "    p = np.ones((n, 1)) / n\n",
        "    out_str = get_out_strengths(G)\n",
        "\n",
        "    deltaSj = np.zeros((n, 1))\n",
        "    for i, node in enumerate(G.nodes()):\n",
        "        if out_str[node] == 0:\n",
        "            deltaSj[i] = 1\n",
        "\n",
        "    for i in range(iters):\n",
        "        pnew = (1-q) * np.matmul(np.matmul(A.transpose(), Dinv), p) + (q/n) + ((1-q)/n) * np.sum(np.multiply(p, deltaSj))\n",
        "        change = np.sqrt(np.sum(np.power(p-pnew, 2)))\n",
        "        conv_history.append(change)\n",
        "        p = pnew / np.sum(pnew)\n",
        "    \n",
        "    return p, conv_history"
      ],
      "execution_count": 3,
      "outputs": []
    },
    {
      "cell_type": "markdown",
      "metadata": {
        "id": "9HAK2zfsutW6"
      },
      "source": [
        "# PIB"
      ]
    },
    {
      "cell_type": "markdown",
      "metadata": {
        "id": "c7ZsaYfrRSNZ"
      },
      "source": [
        "## PIB Graph & Projection"
      ]
    },
    {
      "cell_type": "code",
      "metadata": {
        "id": "Hh6L9oE_RZMi"
      },
      "source": [
        "def get_PIB():\n",
        "    CBo = get_bowling_career_avg()\n",
        "    \n",
        "    pib = {}\n",
        "    for row in np.array(pd.read_csv('batsmen_against_bowlers_averages.csv')):\n",
        "        batsman, bowler, runs, dismisses = row\n",
        "        if batsman not in pib:\n",
        "            pib[batsman] = {}\n",
        "        \n",
        "        aba = runs / max(1, dismisses)\n",
        "        if CBo[bowler] == 0: cbo = 1\n",
        "        else: cbo = CBo[bowler]\n",
        "        pib[batsman][bowler] = aba / cbo\n",
        "    \n",
        "    return pib\n",
        "\n",
        "def get_PIB_graph():\n",
        "    G = nx.DiGraph()\n",
        "    pib = get_PIB()\n",
        "    for batsman in pib:\n",
        "        for bowler in pib[batsman]:\n",
        "            G.add_edge(bowler, batsman, weight = pib[batsman][bowler])\n",
        "\n",
        "    return G\n",
        "\n",
        "def get_one_mode_projected_from_PIB(pib):\n",
        "    G_und = nx.Graph()\n",
        "    \n",
        "    for node in pib.nodes():\n",
        "        out_edges = pib.out_edges(node)\n",
        "\n",
        "        for bowler, batter_A in out_edges:\n",
        "            for bowler, batter_B in out_edges:\n",
        "                if batter_A != batter_B:\n",
        "                    G_und.add_edge(batter_A, batter_B)\n",
        "    \n",
        "    in_strengths = get_in_strengths(pib)\n",
        "\n",
        "    G = nx.DiGraph()\n",
        "    for batter_A, batter_B in G_und.edges():\n",
        "        in_str_A = in_strengths[batter_A]\n",
        "        in_str_B = in_strengths[batter_B]\n",
        "        if in_str_A < in_str_B:\n",
        "            G.add_edge(batter_A, batter_B, weight = in_str_B - in_str_A)\n",
        "        else:\n",
        "            G.add_edge(batter_B, batter_A, weight = in_str_A - in_str_B)\n",
        "\n",
        "    return G"
      ],
      "execution_count": 4,
      "outputs": []
    },
    {
      "cell_type": "markdown",
      "metadata": {
        "id": "wbKtXGkqvfFt"
      },
      "source": [
        "## PIB Results & Ranks"
      ]
    },
    {
      "cell_type": "code",
      "metadata": {
        "id": "rN0E96BoOJF3",
        "outputId": "e0c3cf1d-1714-4959-822c-48be86338e9c",
        "colab": {
          "base_uri": "https://localhost:8080/",
          "height": 295
        }
      },
      "source": [
        "PIB_graph = get_PIB_graph()\n",
        "PIB_proj = get_one_mode_projected_from_PIB(PIB_graph)\n",
        "\n",
        "# this gives i->j convention\n",
        "PIB_adj = nx.linalg.graphmatrix.adjacency_matrix(PIB_proj).todense()\n",
        "PIB_D_inv = get_D_inv(PIB_proj)\n",
        "\n",
        "scores, change = pageRank(PIB_adj, PIB_D_inv, 25, PIB_proj)\n",
        "\n",
        "plt.plot(change)\n",
        "plt.grid()\n",
        "plt.xlabel('Iteration')\n",
        "plt.ylabel('Difference')\n",
        "plt.title('Convergence (PIB)')\n",
        "plt.show()"
      ],
      "execution_count": 5,
      "outputs": [
        {
          "output_type": "display_data",
          "data": {
            "image/png": "[encoded data removed]",
            "text/plain": [
              "<Figure size 432x288 with 1 Axes>"
            ]
          },
          "metadata": {
            "tags": [],
            "needs_background": "light"
          }
        }
      ]
    },
    {
      "cell_type": "code",
      "metadata": {
        "id": "s26ms9w4xCyC",
        "outputId": "dd8a73e8-b49b-4aba-8067-86cb6bcb7dd1",
        "colab": {
          "base_uri": "https://localhost:8080/"
        }
      },
      "source": [
        "n = len(scores)\n",
        "ranks = sorted(range(n), key=lambda x: scores[x], reverse=True)\n",
        "batsmen = list(PIB_proj.nodes())\n",
        "for i in range(25):\n",
        "    score = round(float(scores[ranks[i]]), 5)\n",
        "    score = str(score).ljust(5+2, '0')\n",
        "    rank = str(i+1).zfill(2)\n",
        "    batter = batsmen[ranks[i]]\n",
        "    print('Score {} : Rank {} : {}'.format(score, rank, batter))"
      ],
      "execution_count": 6,
      "outputs": [
        {
          "output_type": "stream",
          "text": [
            "Score 0.16419 : Rank 01 : AN Cook\n",
            "Score 0.06060 : Rank 02 : HM Amla\n",
            "Score 0.03863 : Rank 03 : LRPL Taylor\n",
            "Score 0.02310 : Rank 04 : KS Williamson\n",
            "Score 0.02077 : Rank 05 : AB de Villiers\n",
            "Score 0.01860 : Rank 06 : JE Root\n",
            "Score 0.01655 : Rank 07 : SPD Smith\n",
            "Score 0.01541 : Rank 08 : V Kohli\n",
            "Score 0.01458 : Rank 09 : DA Warner\n",
            "Score 0.01308 : Rank 10 : MJ Clarke\n",
            "Score 0.01124 : Rank 11 : KC Sangakkara\n",
            "Score 0.01055 : Rank 12 : AD Mathews\n",
            "Score 0.00976 : Rank 13 : Azhar Ali\n",
            "Score 0.00881 : Rank 14 : CA Pujara\n",
            "Score 0.00874 : Rank 15 : EA Perry\n",
            "Score 0.00784 : Rank 16 : Younis Khan\n",
            "Score 0.00736 : Rank 17 : S Chanderpaul\n",
            "Score 0.00660 : Rank 18 : IR Bell\n",
            "Score 0.00642 : Rank 19 : BB McCullum\n",
            "Score 0.00616 : Rank 20 : KP Pietersen\n",
            "Score 0.00594 : Rank 21 : Mushfiqur Rahim\n",
            "Score 0.00562 : Rank 22 : HC Knight\n",
            "Score 0.00552 : Rank 23 : Tamim Iqbal\n",
            "Score 0.00540 : Rank 24 : GC Smith\n",
            "Score 0.00526 : Rank 25 : Misbah-ul-Haq\n"
          ],
          "name": "stdout"
        }
      ]
    },
    {
      "cell_type": "markdown",
      "metadata": {
        "id": "b-VUz5Ddwxbk"
      },
      "source": [
        "# QIB"
      ]
    },
    {
      "cell_type": "markdown",
      "metadata": {
        "id": "_M4JB6Yow158"
      },
      "source": [
        "## QIB Graph & Projection"
      ]
    },
    {
      "cell_type": "code",
      "metadata": {
        "id": "r9VfK-Ei8oMM"
      },
      "source": [
        "def get_QIB():\n",
        "    CBa = get_batting_career_avg()\n",
        "    CBo = get_bowling_career_avg()\n",
        "    \n",
        "    qib = {}\n",
        "    for row in np.array(pd.read_csv('batsmen_against_bowlers_averages.csv')):\n",
        "        batsman, bowler, runs, dismisses = row\n",
        "        if bowler not in qib:\n",
        "            qib[bowler] = {}\n",
        "        \n",
        "        cba = CBa[batsman]\n",
        "        if CBo[bowler] == 0: cbo = 1\n",
        "        else: cbo = CBo[bowler]\n",
        "        d = dismisses\n",
        "        \n",
        "        qib[bowler][batsman] = d * (cba / cbo)\n",
        "    \n",
        "    return qib\n",
        "\n",
        "def get_QIB_graph():\n",
        "    G = nx.DiGraph()\n",
        "    qib = get_QIB()\n",
        "    for bowler in qib:\n",
        "        for batsman in qib[bowler]:\n",
        "            G.add_edge(batsman, bowler, weight = qib[bowler][batsman])\n",
        "\n",
        "    return G\n",
        "\n",
        "def get_one_mode_projected_from_QIB(qib):\n",
        "    G_und = nx.Graph()\n",
        "\n",
        "    for node in qib.nodes():\n",
        "        out_edges = qib.out_edges(node)\n",
        "\n",
        "        for batter, bowler_A in out_edges:\n",
        "            for batter, bowler_B in out_edges:\n",
        "                if bowler_A != bowler_B:\n",
        "                    G_und.add_edge(bowler_A, bowler_B)\n",
        "    \n",
        "    in_strengths = get_in_strengths(qib)\n",
        "\n",
        "    G = nx.DiGraph()\n",
        "    for bowler_A, bowler_B in G_und.edges():\n",
        "        in_str_A = in_strengths[bowler_A]\n",
        "        in_str_B = in_strengths[bowler_B]\n",
        "        if in_str_A < in_str_B:\n",
        "            G.add_edge(bowler_A, bowler_B, weight = in_str_B - in_str_A)\n",
        "        else:\n",
        "            G.add_edge(bowler_B, bowler_A, weight = in_str_A - in_str_B)\n",
        "\n",
        "    return G"
      ],
      "execution_count": 7,
      "outputs": []
    },
    {
      "cell_type": "markdown",
      "metadata": {
        "id": "VJ3WuH1LycsS"
      },
      "source": [
        "## QIB Results & Ranks"
      ]
    },
    {
      "cell_type": "code",
      "metadata": {
        "id": "l2ntSx1Nyfix",
        "outputId": "05a42b57-40bf-4271-e799-a155ddc86217",
        "colab": {
          "base_uri": "https://localhost:8080/",
          "height": 295
        }
      },
      "source": [
        "QIB_graph = get_QIB_graph()\n",
        "QIB_proj = get_one_mode_projected_from_QIB(QIB_graph)\n",
        "\n",
        "# this gives i->j convention\n",
        "QIB_adj = nx.linalg.graphmatrix.adjacency_matrix(QIB_proj).todense()\n",
        "QIB_D_inv = get_D_inv(QIB_proj)\n",
        "\n",
        "scores, change = pageRank(QIB_adj, QIB_D_inv, 25, QIB_proj)\n",
        "\n",
        "plt.plot(change)\n",
        "plt.grid()\n",
        "plt.xlabel('Iteration')\n",
        "plt.ylabel('Difference')\n",
        "plt.title('Convergence (QIB)')\n",
        "plt.show()"
      ],
      "execution_count": 8,
      "outputs": [
        {
          "output_type": "display_data",
          "data": {
            "image/png": "[encoded data removed]",
            "text/plain": [
              "<Figure size 432x288 with 1 Axes>"
            ]
          },
          "metadata": {
            "tags": [],
            "needs_background": "light"
          }
        }
      ]
    },
    {
      "cell_type": "code",
      "metadata": {
        "id": "V_KejOV3zTPu",
        "outputId": "58c245f8-342c-4d60-a480-d521161ae7c3",
        "colab": {
          "base_uri": "https://localhost:8080/"
        }
      },
      "source": [
        "n = len(scores)\n",
        "ranks = sorted(range(n), key=lambda x: scores[x], reverse=True)\n",
        "bowlers = list(QIB_proj.nodes())\n",
        "for i in range(25):\n",
        "    score = round(float(scores[ranks[i]]), 5)\n",
        "    score = str(score).ljust(5+2, '0')\n",
        "    rank = str(i+1).zfill(2)\n",
        "    bowler = bowlers[ranks[i]]\n",
        "    print('Score {} : Rank {} : {}'.format(score, rank, bowler))"
      ],
      "execution_count": 9,
      "outputs": [
        {
          "output_type": "stream",
          "text": [
            "Score 0.18766 : Rank 01 : JM Anderson\n",
            "Score 0.08336 : Rank 02 : SCJ Broad\n",
            "Score 0.04235 : Rank 03 : DW Steyn\n",
            "Score 0.02799 : Rank 04 : HMRKB Herath\n",
            "Score 0.02666 : Rank 05 : R Ashwin\n",
            "Score 0.02128 : Rank 06 : NM Lyon\n",
            "Score 0.01844 : Rank 07 : M Morkel\n",
            "Score 0.01550 : Rank 08 : MG Johnson\n",
            "Score 0.01200 : Rank 09 : VD Philander\n",
            "Score 0.01184 : Rank 10 : TG Southee\n",
            "Score 0.01066 : Rank 11 : TA Boult\n",
            "Score 0.01062 : Rank 12 : I Sharma\n",
            "Score 0.00947 : Rank 13 : GP Swann\n",
            "Score 0.00922 : Rank 14 : MA Starc\n",
            "Score 0.00844 : Rank 15 : K Rabada\n",
            "Score 0.00829 : Rank 16 : EA Perry\n",
            "Score 0.00763 : Rank 17 : RA Jadeja\n",
            "Score 0.00746 : Rank 18 : PM Siddle\n",
            "Score 0.00719 : Rank 19 : N Wagner\n",
            "Score 0.00700 : Rank 20 : JR Hazlewood\n",
            "Score 0.00696 : Rank 21 : KAJ Roach\n",
            "Score 0.00636 : Rank 22 : JL Gunn\n",
            "Score 0.00563 : Rank 23 : PJ Cummins\n",
            "Score 0.00545 : Rank 24 : Yasir Shah\n",
            "Score 0.00523 : Rank 25 : Shakib Al Hasan\n"
          ],
          "name": "stdout"
        }
      ]
    },
    {
      "cell_type": "markdown",
      "metadata": {
        "id": "3q4tonnan6Fj"
      },
      "source": [
        "# Unweighted Undirected BPN"
      ]
    },
    {
      "cell_type": "code",
      "metadata": {
        "id": "E_-6lAVG0Sib"
      },
      "source": [
        "def get_unweighted_BPN(country='india'):\n",
        "    file_name = 'partnership_' + country + '.csv'\n",
        "    data = pd.read_csv(file_name)\n",
        "    \n",
        "    G = nx.Graph()\n",
        "    for striker, non_striker in zip(data['striker'], data['non_striker']):\n",
        "        G.add_edge(striker, non_striker)\n",
        "\n",
        "    return G"
      ],
      "execution_count": 10,
      "outputs": []
    },
    {
      "cell_type": "markdown",
      "metadata": {
        "id": "SR2BUtRvgOA_"
      },
      "source": [
        "## Degree Distribution"
      ]
    },
    {
      "cell_type": "code",
      "metadata": {
        "id": "pGYSmvZQmP0N"
      },
      "source": [
        "def display_degree_distribution(country):\n",
        "    bpn = get_unweighted_BPN(country)\n",
        "    degrees = bpn.degree()\n",
        "    degrees = [x[1] for x in degrees]\n",
        "    degree_count = {}\n",
        "    for d in degrees:\n",
        "        if d not in degree_count:\n",
        "            degree_count[d] = 0\n",
        "        degree_count[d] += 1\n",
        "\n",
        "    d = []\n",
        "    f = []\n",
        "    for k in sorted(degree_count.keys()):\n",
        "        d.append(k)\n",
        "        f.append(degree_count[k])\n",
        "\n",
        "    plt.plot(d, f)"
      ],
      "execution_count": 11,
      "outputs": []
    },
    {
      "cell_type": "code",
      "metadata": {
        "id": "eD4HK-ZegSHv",
        "outputId": "58d979fc-8894-4e20-c905-7349c22b2b0e",
        "colab": {
          "base_uri": "https://localhost:8080/",
          "height": 295
        }
      },
      "source": [
        "display_degree_distribution('india')\n",
        "display_degree_distribution('australia')\n",
        "plt.grid()\n",
        "plt.xlabel('Degree')\n",
        "plt.ylabel('Frequency')\n",
        "plt.title('Degree Distribution')\n",
        "plt.legend(['India', 'Australia'])\n",
        "plt.show()"
      ],
      "execution_count": 12,
      "outputs": [
        {
          "output_type": "display_data",
          "data": {
            "image/png": "[encoded data removed]",
            "text/plain": [
              "<Figure size 432x288 with 1 Axes>"
            ]
          },
          "metadata": {
            "tags": [],
            "needs_background": "light"
          }
        }
      ]
    },
    {
      "cell_type": "markdown",
      "metadata": {
        "id": "0H7vcYLLmxnp"
      },
      "source": [
        "## Clustering Coefficient"
      ]
    },
    {
      "cell_type": "code",
      "metadata": {
        "id": "v83-QDeSomAW"
      },
      "source": [
        "def get_clustering_coeffs(country, need_object=False):\n",
        "    bpn = get_unweighted_BPN(country)\n",
        "    coeffs = {}\n",
        "    avg_ci = 0\n",
        "    for node in bpn.nodes():\n",
        "        neighbors = list(bpn.neighbors(node))\n",
        "        subgraph = bpn.subgraph(neighbors)\n",
        "        edge_count = len(subgraph.edges())\n",
        "        k = len(neighbors)\n",
        "        kc2 = (k * (k-1)) // 2\n",
        "\n",
        "        if kc2 == 0:\n",
        "            continue    \n",
        "        coeffs[node] = edge_count / kc2\n",
        "        avg_ci += coeffs[node]\n",
        "\n",
        "    avg_ci /= len(coeffs)\n",
        "\n",
        "    m = len(bpn.edges())\n",
        "    n = len(bpn.nodes())\n",
        "    density = 2 * m / (n * (n-1))\n",
        "\n",
        "    if need_object:\n",
        "        return coeffs, avg_ci\n",
        "\n",
        "    print('Average Clustering Coefficient, {}\\t: {}'.format(country, avg_ci))\n",
        "    print('Density, {}\\t\\t\\t\\t: {}'.format(country, density))"
      ],
      "execution_count": 14,
      "outputs": []
    },
    {
      "cell_type": "markdown",
      "metadata": {
        "id": "OcAgwqkcmxin"
      },
      "source": [
        "### India"
      ]
    },
    {
      "cell_type": "code",
      "metadata": {
        "id": "bedaBFGYc9NO",
        "outputId": "2dddc37b-3cdd-44cc-b646-325a3dc91b69",
        "colab": {
          "base_uri": "https://localhost:8080/"
        }
      },
      "source": [
        "get_clustering_coeffs('india')"
      ],
      "execution_count": 15,
      "outputs": [
        {
          "output_type": "stream",
          "text": [
            "Average Clustering Coefficient, india\t: 0.6338067955937241\n",
            "Density, india\t\t\t\t: 0.17774936061381075\n"
          ],
          "name": "stdout"
        }
      ]
    },
    {
      "cell_type": "markdown",
      "metadata": {
        "id": "UJEuu3Q6pqAW"
      },
      "source": [
        "### Australia"
      ]
    },
    {
      "cell_type": "code",
      "metadata": {
        "id": "aeS4rocNpphX",
        "outputId": "a74e977b-8d04-4188-a0b9-a144c89bdc2e",
        "colab": {
          "base_uri": "https://localhost:8080/"
        }
      },
      "source": [
        "get_clustering_coeffs('australia')"
      ],
      "execution_count": 16,
      "outputs": [
        {
          "output_type": "stream",
          "text": [
            "Average Clustering Coefficient, australia\t: 0.6815207810237927\n",
            "Density, australia\t\t\t\t: 0.11732456140350878\n"
          ],
          "name": "stdout"
        }
      ]
    },
    {
      "cell_type": "markdown",
      "metadata": {
        "id": "i8Wk9HWuokgw"
      },
      "source": [
        "## Betweenness Centrality"
      ]
    },
    {
      "cell_type": "code",
      "metadata": {
        "id": "0AUEsYOKsGro"
      },
      "source": [
        "def get_betweenness_centrality(country, need_object=False):\n",
        "    bpn = get_unweighted_BPN(country)\n",
        "    x = nx.algorithms.betweenness_centrality(bpn)\n",
        "    centralities = []\n",
        "    for k in x:\n",
        "        centralities.append((x[k], k))\n",
        "    centralities.sort(reverse=True)\n",
        "\n",
        "    if need_object:\n",
        "        return centralities\n",
        "\n",
        "    for rank, cent in enumerate(centralities[:10], 1):\n",
        "        centrality, batter = cent\n",
        "        print('Rank {}: {}'.format(str(rank).zfill(2), batter))\n",
        "        #print('Degree: {}'.format(len(list(bpn.neighbors(batter)))))"
      ],
      "execution_count": 17,
      "outputs": []
    },
    {
      "cell_type": "markdown",
      "metadata": {
        "id": "5sjyPXVbsqwa"
      },
      "source": [
        "### India"
      ]
    },
    {
      "cell_type": "code",
      "metadata": {
        "id": "9djaNa-Essa3",
        "outputId": "a9e36944-8c03-4d1e-ab70-b0b765678878",
        "colab": {
          "base_uri": "https://localhost:8080/"
        }
      },
      "source": [
        "get_betweenness_centrality('india')"
      ],
      "execution_count": 18,
      "outputs": [
        {
          "output_type": "stream",
          "text": [
            "Rank 01: I Sharma\n",
            "Rank 02: V Kohli\n",
            "Rank 03: R Ashwin\n",
            "Rank 04: MS Dhoni\n",
            "Rank 05: CA Pujara\n",
            "Rank 06: VVS Laxman\n",
            "Rank 07: Mohammed Shami\n",
            "Rank 08: AM Rahane\n",
            "Rank 09: UT Yadav\n",
            "Rank 10: R Dravid\n"
          ],
          "name": "stdout"
        }
      ]
    },
    {
      "cell_type": "markdown",
      "metadata": {
        "id": "akQrY4QWt9pM"
      },
      "source": [
        "### Australia"
      ]
    },
    {
      "cell_type": "code",
      "metadata": {
        "id": "bBchRI2Ct_YC",
        "outputId": "f0263f47-f2b7-42ce-de6f-b30ad98257e5",
        "colab": {
          "base_uri": "https://localhost:8080/"
        }
      },
      "source": [
        "get_betweenness_centrality('australia')"
      ],
      "execution_count": 19,
      "outputs": [
        {
          "output_type": "stream",
          "text": [
            "Rank 01: MG Johnson\n",
            "Rank 02: SPD Smith\n",
            "Rank 03: MJ Clarke\n",
            "Rank 04: NM Lyon\n",
            "Rank 05: MEK Hussey\n",
            "Rank 06: BJ Haddin\n",
            "Rank 07: MA Starc\n",
            "Rank 08: PM Siddle\n",
            "Rank 09: DA Warner\n",
            "Rank 10: NM Hauritz\n"
          ],
          "name": "stdout"
        }
      ]
    },
    {
      "cell_type": "markdown",
      "metadata": {
        "id": "ehHq9Azaw3jY"
      },
      "source": [
        "## Closeness Centrality"
      ]
    },
    {
      "cell_type": "code",
      "metadata": {
        "id": "R63ne2nbw7MZ"
      },
      "source": [
        "def get_closeness_centrality(country, need_object=False):\n",
        "    bpn = get_unweighted_BPN(country)\n",
        "    x = nx.algorithms.closeness_centrality(bpn)\n",
        "    centralities = []\n",
        "    for k in x:\n",
        "        centralities.append((x[k], k))\n",
        "    centralities.sort(reverse=True)\n",
        "\n",
        "    if need_object:\n",
        "        return centralities\n",
        "\n",
        "    for rank, cent in enumerate(centralities[:10], 1):\n",
        "        centrality, batter = cent\n",
        "        print('Rank {}: {}'.format(str(rank).zfill(2), batter))\n",
        "        #print('Degree: {}'.format(len(list(bpn.neighbors(batter)))))"
      ],
      "execution_count": 20,
      "outputs": []
    },
    {
      "cell_type": "markdown",
      "metadata": {
        "id": "U2pM3wh8xE1u"
      },
      "source": [
        "### India"
      ]
    },
    {
      "cell_type": "code",
      "metadata": {
        "id": "sC-FV3n_xHLY",
        "outputId": "e24cb072-345c-4d92-d598-2837eff90fff",
        "colab": {
          "base_uri": "https://localhost:8080/"
        }
      },
      "source": [
        "get_closeness_centrality('india')"
      ],
      "execution_count": 21,
      "outputs": [
        {
          "output_type": "stream",
          "text": [
            "Rank 01: V Kohli\n",
            "Rank 02: I Sharma\n",
            "Rank 03: CA Pujara\n",
            "Rank 04: MS Dhoni\n",
            "Rank 05: R Ashwin\n",
            "Rank 06: VVS Laxman\n",
            "Rank 07: AM Rahane\n",
            "Rank 08: RA Jadeja\n",
            "Rank 09: R Dravid\n",
            "Rank 10: Z Khan\n"
          ],
          "name": "stdout"
        }
      ]
    },
    {
      "cell_type": "markdown",
      "metadata": {
        "id": "3s6knWMBw6LT"
      },
      "source": [
        "### Australia"
      ]
    },
    {
      "cell_type": "code",
      "metadata": {
        "id": "xkp3xFZVxPdn",
        "outputId": "18de1478-2ea2-4d67-9950-fbcacd98a8e8",
        "colab": {
          "base_uri": "https://localhost:8080/"
        }
      },
      "source": [
        "get_closeness_centrality('australia')"
      ],
      "execution_count": 22,
      "outputs": [
        {
          "output_type": "stream",
          "text": [
            "Rank 01: SPD Smith\n",
            "Rank 02: MJ Clarke\n",
            "Rank 03: MG Johnson\n",
            "Rank 04: BJ Haddin\n",
            "Rank 05: NM Lyon\n",
            "Rank 06: PM Siddle\n",
            "Rank 07: MEK Hussey\n",
            "Rank 08: MA Starc\n",
            "Rank 09: SE Marsh\n",
            "Rank 10: MS Wade\n"
          ],
          "name": "stdout"
        }
      ]
    },
    {
      "cell_type": "markdown",
      "metadata": {
        "id": "05Y6psb4TdVq"
      },
      "source": [
        "## Assortativity"
      ]
    },
    {
      "cell_type": "code",
      "metadata": {
        "id": "YzzpH6g1TfbW"
      },
      "source": [
        "def get_assortativity(country):\n",
        "    bpn = get_unweighted_BPN(country)\n",
        "    n = len(list(bpn.nodes()))\n",
        "    m = len(list(bpn.edges()))\n",
        "\n",
        "    e = np.zeros((n, n))\n",
        "    for b1, b2 in bpn.edges():\n",
        "        d1 = len(list(bpn.neighbors(b1)))\n",
        "        d2 = len(list(bpn.neighbors(b2)))\n",
        "\n",
        "        e[d1-1][d2-1] += 1\n",
        "        e[d2-1][d1-1] += 1\n",
        "    e = e / (2*m)\n",
        "\n",
        "    q = np.sum(e, axis=0)\n",
        "    qjqk = np.matmul(np.reshape(q, (n, 1)), np.reshape(q, (1, n)))\n",
        "\n",
        "    k = np.array(np.arange(n))\n",
        "    jk = np.array([j*k for j in np.arange(n)])\n",
        "\n",
        "    sigma2 = np.sum(np.power(k, 2) * q) - np.power(np.sum(k * q), 2)\n",
        "    A = np.sum(np.multiply(jk, e-qjqk)) / sigma2\n",
        "\n",
        "    return A"
      ],
      "execution_count": 23,
      "outputs": []
    },
    {
      "cell_type": "markdown",
      "metadata": {
        "id": "2FziZnqeam34"
      },
      "source": [
        "### India"
      ]
    },
    {
      "cell_type": "code",
      "metadata": {
        "id": "Ng2setdgaoTF",
        "outputId": "1cc53d63-590d-426e-e516-bd6e57dc2978",
        "colab": {
          "base_uri": "https://localhost:8080/"
        }
      },
      "source": [
        "A = get_assortativity('india')\n",
        "print('Assortativity A (India): {}'.format(A))"
      ],
      "execution_count": 24,
      "outputs": [
        {
          "output_type": "stream",
          "text": [
            "Assortativity A (India): -0.1276916166753366\n"
          ],
          "name": "stdout"
        }
      ]
    },
    {
      "cell_type": "markdown",
      "metadata": {
        "id": "q65YXuXLayB0"
      },
      "source": [
        "### Australia"
      ]
    },
    {
      "cell_type": "code",
      "metadata": {
        "id": "zYMyHPWDazg_",
        "outputId": "8281f983-f900-4e44-c2ce-79c117447c03",
        "colab": {
          "base_uri": "https://localhost:8080/"
        }
      },
      "source": [
        "A = get_assortativity('australia')\n",
        "print('Assortativity A (Australia): {}'.format(A))"
      ],
      "execution_count": 25,
      "outputs": [
        {
          "output_type": "stream",
          "text": [
            "Assortativity A (Australia): -0.03183112642377363\n"
          ],
          "name": "stdout"
        }
      ]
    },
    {
      "cell_type": "markdown",
      "metadata": {
        "id": "jH0HgRAFbDjr"
      },
      "source": [
        "## Modularity Maximization"
      ]
    },
    {
      "cell_type": "code",
      "metadata": {
        "id": "1COEog1dbDBU"
      },
      "source": [
        "def get_modularity_communities(country, need_object=False):\n",
        "    bpn = get_unweighted_BPN(country)\n",
        "    communities = nx.algorithms.community.modularity_max.greedy_modularity_communities(bpn)\n",
        "    communities = [sorted(community) for community in communities]\n",
        "\n",
        "    if need_object:\n",
        "        return communities\n",
        "\n",
        "    for index, community in enumerate(communities, 1):\n",
        "        print('Community {}'.format(index))\n",
        "        for batter in community:\n",
        "            print(batter)\n",
        "        print()"
      ],
      "execution_count": 26,
      "outputs": []
    },
    {
      "cell_type": "code",
      "metadata": {
        "id": "0z91tuqHlJOU"
      },
      "source": [
        "def get_modularity(country):\n",
        "    bpn = get_unweighted_BPN(country)\n",
        "    m = len(bpn.edges())\n",
        "    n = len(bpn.nodes())\n",
        "\n",
        "    batter = [batter for batter, degree in bpn.degree()]\n",
        "    degree = [degree for batter, degree in bpn.degree()]\n",
        "\n",
        "    A = np.array(nx.linalg.graphmatrix.adjacency_matrix(bpn).todense())\n",
        "\n",
        "    communities = get_modularity_communities(country, need_object=True)\n",
        "\n",
        "    Q = 0\n",
        "    for i in range(n):\n",
        "        for j in range(n):\n",
        "            delta = 0\n",
        "            for community in communities:\n",
        "                if batter[i] in community and batter[j] in community:\n",
        "                    delta = 1\n",
        "                    break\n",
        "            Q += (A[i][j] - degree[i]*degree[j]/(2*m)) * delta\n",
        "\n",
        "    Q = Q / (2*m)\n",
        "\n",
        "    return Q"
      ],
      "execution_count": 27,
      "outputs": []
    },
    {
      "cell_type": "markdown",
      "metadata": {
        "id": "_gIKfyZZ18F-"
      },
      "source": [
        "### India"
      ]
    },
    {
      "cell_type": "code",
      "metadata": {
        "id": "_CJ6snqU17vy",
        "outputId": "ca02882e-729f-40d3-cbf6-74a495129812",
        "colab": {
          "base_uri": "https://localhost:8080/"
        }
      },
      "source": [
        "Q = get_modularity('india')\n",
        "print('Modularity (India): {}'.format(Q))"
      ],
      "execution_count": 28,
      "outputs": [
        {
          "output_type": "stream",
          "text": [
            "Modularity (India): 0.2945557223286111\n"
          ],
          "name": "stdout"
        }
      ]
    },
    {
      "cell_type": "markdown",
      "metadata": {
        "id": "32movmxI2OS6"
      },
      "source": [
        "### Australia"
      ]
    },
    {
      "cell_type": "code",
      "metadata": {
        "id": "ZnyYyb5y2Nz7",
        "outputId": "bbbefce8-10fb-4874-d92a-5b070e4001c6",
        "colab": {
          "base_uri": "https://localhost:8080/"
        }
      },
      "source": [
        "Q = get_modularity('australia')\n",
        "print('Modularity (Australia): {}'.format(Q))"
      ],
      "execution_count": 29,
      "outputs": [
        {
          "output_type": "stream",
          "text": [
            "Modularity (Australia): 0.31732553061402863\n"
          ],
          "name": "stdout"
        }
      ]
    },
    {
      "cell_type": "markdown",
      "metadata": {
        "id": "k-1MV0q3gFMR"
      },
      "source": [
        "## Community Structure (Z-score)"
      ]
    },
    {
      "cell_type": "code",
      "metadata": {
        "id": "QjhAU3tc_yJi"
      },
      "source": [
        "def get_community_structure(country, need_object=False):\n",
        "    bpn = get_unweighted_BPN(country)\n",
        "    communities = get_modularity_communities(country, need_object=True)\n",
        "    communities = [set(community) for community in communities]\n",
        "\n",
        "    Z = []\n",
        "    P = []\n",
        "    ki = []\n",
        "    mean_ksi = []\n",
        "    sigma_ksi = []\n",
        "    for index, community in enumerate(communities):\n",
        "        ki.append({})\n",
        "        Z.append({})\n",
        "        P.append({})\n",
        "        \n",
        "        for batter in community:\n",
        "            batter_neighbors = set(bpn.neighbors(batter))\n",
        "            ki[index][batter] = len(community.intersection(batter_neighbors))\n",
        "        \n",
        "        ksi_av = np.mean(list(ki[index].values()))\n",
        "        ksi_std = np.std(list(ki[index].values()))\n",
        "        mean_ksi.append(ksi_av)\n",
        "        sigma_ksi.append(ksi_std)\n",
        "\n",
        "        for batter in community:\n",
        "            Z[index][batter] = (ki[index][batter] - mean_ksi[index]) / sigma_ksi[index]\n",
        "            \n",
        "            batter_neighbors = set(bpn.neighbors(batter))\n",
        "            kis = list(map(lambda x: len(x & batter_neighbors), communities))\n",
        "            kis = np.array(kis)\n",
        "            \n",
        "            P[index][batter] = 1 - np.sum(np.power(kis / len(batter_neighbors), 2))\n",
        "\n",
        "    if need_object:\n",
        "        return Z, P\n",
        "\n",
        "    print('Batter \\t\\t: Zi \\t: Pi')\n",
        "    for z_c, p_c, i in zip(Z, P, range(len(Z))):\n",
        "        print('Community {}:'.format(i+1))\n",
        "        for batter in z_c:\n",
        "            zprint = str(round(z_c[batter], 5)).ljust(8, '0')\n",
        "            pprint = str(round(p_c[batter], 5)).ljust(8, '0')\n",
        "            bprint = batter.ljust(15)\n",
        "            print('{} : {} : {}'.format(bprint, zprint, pprint))\n",
        "        print()"
      ],
      "execution_count": 30,
      "outputs": []
    },
    {
      "cell_type": "markdown",
      "metadata": {
        "id": "0mWq6vlPADhf"
      },
      "source": [
        "### India"
      ]
    },
    {
      "cell_type": "code",
      "metadata": {
        "id": "vpfC3z6MAGEz",
        "outputId": "082f6953-9b9a-4074-e01d-62f2654498b5",
        "colab": {
          "base_uri": "https://localhost:8080/"
        }
      },
      "source": [
        "get_community_structure('india')"
      ],
      "execution_count": 31,
      "outputs": [
        {
          "output_type": "stream",
          "text": [
            "Batter \t\t: Zi \t: Pi\n",
            "Community 1:\n",
            "GH Vihari       : -0.14847 : 0.165290\n",
            "SN Thakur       : -1.52929 : 0.000000\n",
            "VR Aaron        : -0.60875 : 0.420000\n",
            "R Ashwin        : 1.385770 : 0.444440\n",
            "PA Patel        : -0.76217 : 0.444440\n",
            "NV Ojha         : -1.37587 : 0.444440\n",
            "WP Saha         : 0.925490 : 0.385630\n",
            "PP Shaw         : -1.06902 : 0.000000\n",
            "HH Pandya       : 0.311800 : 0.231110\n",
            "RR Pant         : 0.158370 : 0.142010\n",
            "RA Jadeja       : 1.385770 : 0.277780\n",
            "AM Rahane       : 1.232340 : 0.417010\n",
            "Mohammed Shami  : 1.078920 : 0.340260\n",
            "S Nadeem        : -1.37587 : 0.000000\n",
            "STR Binny       : 0.004950 : 0.260360\n",
            "UT Yadav        : 1.232340 : 0.235540\n",
            "KV Sharma       : -1.06902 : 0.320000\n",
            "B Kumar         : 0.004950 : 0.336730\n",
            "RG Sharma       : 0.772070 : 0.265930\n",
            "J Yadav         : -0.91559 : 0.277780\n",
            "KK Nair         : -0.45532 : 0.000000\n",
            "MA Agarwal      : -0.30190 : 0.000000\n",
            "Kuldeep Yadav   : -0.91559 : 0.000000\n",
            "CA Pujara       : 1.692610 : 0.466940\n",
            "M Vijay         : 0.158370 : 0.444440\n",
            "A Mukund        : -0.91559 : 0.493830\n",
            "S Dhawan        : -0.30190 : 0.180000\n",
            "V Kohli         : 1.999460 : 0.465370\n",
            "Pankaj Singh    : -1.06902 : 0.000000\n",
            "KL Rahul        : 0.925490 : 0.000000\n",
            "JJ Bumrah       : -0.45532 : 0.197530\n",
            "\n",
            "Community 2:\n",
            "MS Dhoni        : 1.721640 : 0.472320\n",
            "A Mithun        : -0.85188 : 0.000000\n",
            "KD Karthik      : -0.69104 : 0.480000\n",
            "Z Khan          : 0.756570 : 0.433880\n",
            "A Mishra        : -0.04766 : 0.500000\n",
            "Harbhajan Singh : 1.078260 : 0.351240\n",
            "P Kumar         : -0.53019 : 0.000000\n",
            "PP Ojha         : -0.36935 : 0.497780\n",
            "RP Singh        : -0.53019 : 0.000000\n",
            "V Sehwag        : 0.595720 : 0.218750\n",
            "I Sharma        : 1.239110 : 0.500000\n",
            "S Badrinath     : -1.01273 : 0.320000\n",
            "PP Chawla       : -1.49527 : 0.500000\n",
            "Yuvraj Singh    : -0.36935 : 0.320000\n",
            "A Kumble        : 0.113190 : 0.152780\n",
            "S Sreesanth     : -0.04766 : 0.000000\n",
            "MM Patel        : -1.33442 : 0.000000\n",
            "R Vinay Kumar   : -1.49527 : 0.500000\n",
            "SC Ganguly      : 0.756570 : 0.000000\n",
            "JD Unadkat      : -1.33442 : 0.000000\n",
            "R Dravid        : 1.399950 : 0.329860\n",
            "VVS Laxman      : 1.882490 : 0.336730\n",
            "IK Pathan       : -0.04766 : 0.000000\n",
            "SK Raina        : -0.20850 : 0.375000\n",
            "W Jaffer        : -1.01273 : 0.000000\n",
            "SR Tendulkar    : 1.399950 : 0.329860\n",
            "G Gambhir       : 0.434880 : 0.401230\n",
            "\n",
            "Community 3:\n",
            "N Niranjana     : -0.19426 : 0.000000\n",
            "PG Raut         : -0.19426 : 0.000000\n",
            "M Raj           : 1.942570 : 0.000000\n",
            "S Mandhana      : 0.874160 : 0.000000\n",
            "E Bisht         : -1.26267 : 0.000000\n",
            "H Kaur          : 0.874160 : 0.000000\n",
            "KV Jain         : -1.26267 : 0.000000\n",
            "S Pandey        : 0.874160 : 0.000000\n",
            "MDT Kamini      : -1.26267 : 0.000000\n",
            "J Goswami       : -0.19426 : 0.000000\n",
            "S Sharma        : -0.19426 : 0.000000\n",
            "\n"
          ],
          "name": "stdout"
        }
      ]
    },
    {
      "cell_type": "markdown",
      "metadata": {
        "id": "kEP9nlX8BH__"
      },
      "source": [
        "### Australia"
      ]
    },
    {
      "cell_type": "code",
      "metadata": {
        "id": "6HRgje9jBJhC",
        "outputId": "e70b9228-95fd-46c6-ff28-341ca21bc954",
        "colab": {
          "base_uri": "https://localhost:8080/"
        }
      },
      "source": [
        "get_community_structure('australia')"
      ],
      "execution_count": 32,
      "outputs": [
        {
          "output_type": "stream",
          "text": [
            "Batter \t\t: Zi \t: Pi\n",
            "Community 1:\n",
            "UT Khawaja      : 1.000690 : 0.471940\n",
            "JL Pattinson    : 0.058220 : 0.498610\n",
            "JM Bird         : -0.74961 : 0.406250\n",
            "JW Hastings     : -1.28817 : 0.444440\n",
            "CT Bancroft     : -0.74961 : 0.000000\n",
            "MS Harris       : -0.61497 : 0.000000\n",
            "AC Agar         : -1.01889 : 0.444440\n",
            "SE Marsh        : 1.269970 : 0.498050\n",
            "AJ Finch        : -0.61497 : 0.000000\n",
            "JM Holland      : -1.01889 : 0.000000\n",
            "MC Henriques    : -0.34569 : 0.297520\n",
            "CJ Ferguson     : -1.42281 : 0.000000\n",
            "JA Richardson   : -1.42281 : 0.000000\n",
            "NJ Maddinson    : -1.15353 : 0.000000\n",
            "JM Mennie       : -1.42281 : 0.000000\n",
            "PM Nevill       : 0.192860 : 0.320310\n",
            "KR Patterson    : -0.88425 : 0.000000\n",
            "MT Renshaw      : -0.07642 : 0.000000\n",
            "SNJ O'Keefe     : -0.34569 : 0.000000\n",
            "HWR Cartwright  : -1.28817 : 0.000000\n",
            "SPD Smith       : 1.943170 : 0.485000\n",
            "TD Paine        : 0.596780 : 0.460800\n",
            "NM Lyon         : 1.673890 : 0.475310\n",
            "CJ Sayers       : -1.28817 : 0.000000\n",
            "PJ Cummins      : 0.866060 : 0.099720\n",
            "MR Marsh        : 1.269970 : 0.278400\n",
            "TM Head         : 0.462140 : 0.000000\n",
            "PM Siddle       : 0.731420 : 0.571170\n",
            "GJ Maxwell      : -0.21106 : 0.165290\n",
            "JA Burns        : -0.21106 : 0.165290\n",
            "JR Hazlewood    : 0.327500 : 0.124440\n",
            "MA Starc        : 1.673890 : 0.422410\n",
            "M Labuschagne   : 0.731420 : 0.000000\n",
            "DA Warner       : 1.000690 : 0.489890\n",
            "MS Wade         : 1.269970 : 0.390310\n",
            "AC Voges        : 0.192860 : 0.425930\n",
            "PSP Handscomb   : 0.866060 : 0.000000\n",
            "\n",
            "Community 2:\n",
            "AB McDonald     : -0.46135 : 0.277780\n",
            "BE McGain       : -0.94045 : 0.000000\n",
            "A Symonds       : 0.816240 : 0.000000\n",
            "PR George       : -0.94045 : 0.000000\n",
            "BJ Hodge        : -0.78075 : 0.000000\n",
            "EJM Cowan       : -0.14195 : 0.541670\n",
            "JP Faulkner     : -0.78075 : 0.375000\n",
            "B Lee           : 0.975940 : 0.000000\n",
            "GJ Bailey       : -0.62105 : 0.500000\n",
            "RT Ponting      : 1.135640 : 0.375000\n",
            "BJ Haddin       : 1.934130 : 0.532240\n",
            "MA Beer         : -1.10015 : 0.444440\n",
            "RJ Quiney       : -1.10015 : 0.500000\n",
            "B Casson        : -0.94045 : 0.000000\n",
            "BW Hilfenhaus   : 0.496840 : 0.526320\n",
            "SW Tait         : -1.10015 : 0.000000\n",
            "MEK Hussey      : 1.934130 : 0.507810\n",
            "CL White        : -0.14195 : 0.000000\n",
            "NM Hauritz      : 0.816240 : 0.320310\n",
            "XJ Doherty      : -0.62105 : 0.500000\n",
            "AC Gilchrist    : -0.62105 : 0.000000\n",
            "PJ Hughes       : 0.017740 : 0.493830\n",
            "ML Hayden       : -0.30165 : 0.000000\n",
            "MJ North        : 0.975940 : 0.304500\n",
            "GB Hogg         : -0.46135 : 0.000000\n",
            "MG Johnson      : 2.253530 : 0.531230\n",
            "CJ McKay        : -1.10015 : 0.000000\n",
            "SR Clark        : 0.337140 : 0.165290\n",
            "SCG MacGill     : -0.94045 : 0.000000\n",
            "DE Bollinger    : -0.62105 : 0.489800\n",
            "SM Katich       : 0.816240 : 0.000000\n",
            "SR Watson       : 1.135640 : 0.480150\n",
            "JJ Krejza       : -0.62105 : 0.320000\n",
            "PA Jaques       : -0.62105 : 0.320000\n",
            "GA Manou        : -0.62105 : 0.000000\n",
            "MJ Clarke       : 1.934130 : 0.540540\n",
            "\n",
            "Community 3:\n",
            "AJ Blackwell    : 1.848950 : 0.000000\n",
            "EA Osborne      : -0.24212 : 0.000000\n",
            "AJ Healy        : 0.594300 : 0.000000\n",
            "EJ Villani      : -1.07855 : 0.000000\n",
            "EA Perry        : 2.267160 : 0.000000\n",
            "BL Mooney       : 0.594300 : 0.000000\n",
            "SJ Coyte        : -1.07855 : 0.000000\n",
            "JE Cameron      : -0.66034 : 0.000000\n",
            "RL Haynes       : 0.176090 : 0.000000\n",
            "A Gardner       : -0.66034 : 0.000000\n",
            "JM Fields       : -0.66034 : 0.000000\n",
            "MM Lanning      : 0.594300 : 0.000000\n",
            "NE Bolton       : 0.594300 : 0.000000\n",
            "SJ Elliott      : -0.24212 : 0.000000\n",
            "KM Beams        : -0.66034 : 0.000000\n",
            "HL Ferling      : -1.07855 : 0.000000\n",
            "S Molineux      : -0.66034 : 0.000000\n",
            "JL Jonassen     : 1.430730 : 0.000000\n",
            "ML Schutt       : -1.07855 : 0.000000\n",
            "\n",
            "Community 4:\n",
            "TA Copeland     : -1.00000 : 0.625000\n",
            "CJL Rogers      : 1.000000 : 0.586420\n",
            "AJ Doolan       : -1.00000 : 0.444440\n",
            "RJ Harris       : 1.000000 : 0.586420\n",
            "\n"
          ],
          "name": "stdout"
        }
      ]
    },
    {
      "cell_type": "markdown",
      "metadata": {
        "id": "58a9SHFPBze6"
      },
      "source": [
        "## Community Roles"
      ]
    },
    {
      "cell_type": "code",
      "metadata": {
        "id": "LlzbbtDABzDv"
      },
      "source": [
        "def get_community_roles(Z, P, need_object=False):\n",
        "    classified_roles = {\n",
        "            'non-hubs': {\n",
        "                'ultra-peripheral': {},\n",
        "                'peripheral': {},\n",
        "                'connector': {},\n",
        "                'kinless': {}\n",
        "            },\n",
        "            'hubs': {\n",
        "                'provincial': {},\n",
        "                'connector': {},\n",
        "                'kinless': {}\n",
        "            }\n",
        "        }\n",
        "    for index, comm_p, comm_z in zip(range(len(P)), P, Z):\n",
        "        for batter in comm_p:\n",
        "            p = comm_p[batter]\n",
        "            z = comm_z[batter]\n",
        "\n",
        "            if z <= 2.5:\n",
        "                if p <= 0.05:\n",
        "                    classified_roles['non-hubs']['ultra-peripheral'][batter] = (z, p)\n",
        "                elif p <= 0.62:\n",
        "                    classified_roles['non-hubs']['peripheral'][batter] = (z, p)\n",
        "                elif p <= 0.8:\n",
        "                    classified_roles['non-hubs']['connector'][batter] = (z, p)\n",
        "                else:\n",
        "                    classified_roles['non-hubs']['kinless'][batter] = (z, p)\n",
        "            else:\n",
        "                if p <= 0.3:\n",
        "                    classified_roles['hubs']['provincial'][batter] = (z, p)\n",
        "                elif p <= 0.75:\n",
        "                    classified_roles['hubs']['connector'][batter] = (z, p)\n",
        "                else:\n",
        "                    classified_roles['hubs']['kinless'][batter] = (z, p)\n",
        "    \n",
        "    if need_object:\n",
        "        return classified_roles\n",
        "\n",
        "    for node_type in classified_roles:\n",
        "        print(node_type.upper())\n",
        "        for sub_type in classified_roles[node_type]:\n",
        "            title = '|{} {}'.format(sub_type.upper(), len(classified_roles[node_type][sub_type])).ljust(38)+'|'\n",
        "            print('-' * 39)\n",
        "            print(title)\n",
        "            for batter in classified_roles[node_type][sub_type]:\n",
        "                zprint = str(round(classified_roles[node_type][sub_type][batter][0], 5)).ljust(8)\n",
        "                pprint = str(round(classified_roles[node_type][sub_type][batter][1], 5)).ljust(8)\n",
        "                bprint = batter.ljust(15)\n",
        "                print('|{} : {} : {}|'.format(bprint, zprint, pprint))\n",
        "            print()\n",
        "        print('-' * 39)"
      ],
      "execution_count": 33,
      "outputs": []
    },
    {
      "cell_type": "markdown",
      "metadata": {
        "id": "Nzk1gypFutLI"
      },
      "source": [
        "### India"
      ]
    },
    {
      "cell_type": "code",
      "metadata": {
        "id": "WGXzFmDJuvwr",
        "outputId": "eaf4637a-7d52-4da0-f2d2-297e83001af2",
        "colab": {
          "base_uri": "https://localhost:8080/"
        }
      },
      "source": [
        "z, p = get_community_structure('india', need_object=True)\n",
        "get_community_roles(z, p)"
      ],
      "execution_count": 39,
      "outputs": [
        {
          "output_type": "stream",
          "text": [
            "NON-HUBS\n",
            "---------------------------------------\n",
            "|ULTRA-PERIPHERAL 28                  |\n",
            "|SN Thakur       : -1.52929 : 0.0     |\n",
            "|PP Shaw         : -1.06902 : 0.0     |\n",
            "|S Nadeem        : -1.37587 : 0.0     |\n",
            "|KK Nair         : -0.45532 : 0.0     |\n",
            "|MA Agarwal      : -0.3019  : 0.0     |\n",
            "|Kuldeep Yadav   : -0.91559 : 0.0     |\n",
            "|Pankaj Singh    : -1.06902 : 0.0     |\n",
            "|KL Rahul        : 0.92549  : 0.0     |\n",
            "|A Mithun        : -0.85188 : 0.0     |\n",
            "|P Kumar         : -0.53019 : 0.0     |\n",
            "|RP Singh        : -0.53019 : 0.0     |\n",
            "|S Sreesanth     : -0.04766 : 0.0     |\n",
            "|MM Patel        : -1.33442 : 0.0     |\n",
            "|SC Ganguly      : 0.75657  : 0.0     |\n",
            "|JD Unadkat      : -1.33442 : 0.0     |\n",
            "|IK Pathan       : -0.04766 : 0.0     |\n",
            "|W Jaffer        : -1.01273 : 0.0     |\n",
            "|N Niranjana     : -0.19426 : 0.0     |\n",
            "|PG Raut         : -0.19426 : 0.0     |\n",
            "|M Raj           : 1.94257  : 0.0     |\n",
            "|S Mandhana      : 0.87416  : 0.0     |\n",
            "|E Bisht         : -1.26267 : 0.0     |\n",
            "|H Kaur          : 0.87416  : 0.0     |\n",
            "|KV Jain         : -1.26267 : 0.0     |\n",
            "|S Pandey        : 0.87416  : 0.0     |\n",
            "|MDT Kamini      : -1.26267 : 0.0     |\n",
            "|J Goswami       : -0.19426 : 0.0     |\n",
            "|S Sharma        : -0.19426 : 0.0     |\n",
            "\n",
            "---------------------------------------\n",
            "|PERIPHERAL 41                        |\n",
            "|GH Vihari       : -0.14847 : 0.16529 |\n",
            "|VR Aaron        : -0.60875 : 0.42    |\n",
            "|R Ashwin        : 1.38577  : 0.44444 |\n",
            "|PA Patel        : -0.76217 : 0.44444 |\n",
            "|NV Ojha         : -1.37587 : 0.44444 |\n",
            "|WP Saha         : 0.92549  : 0.38563 |\n",
            "|HH Pandya       : 0.3118   : 0.23111 |\n",
            "|RR Pant         : 0.15837  : 0.14201 |\n",
            "|RA Jadeja       : 1.38577  : 0.27778 |\n",
            "|AM Rahane       : 1.23234  : 0.41701 |\n",
            "|Mohammed Shami  : 1.07892  : 0.34026 |\n",
            "|STR Binny       : 0.00495  : 0.26036 |\n",
            "|UT Yadav        : 1.23234  : 0.23554 |\n",
            "|KV Sharma       : -1.06902 : 0.32    |\n",
            "|B Kumar         : 0.00495  : 0.33673 |\n",
            "|RG Sharma       : 0.77207  : 0.26593 |\n",
            "|J Yadav         : -0.91559 : 0.27778 |\n",
            "|CA Pujara       : 1.69261  : 0.46694 |\n",
            "|M Vijay         : 0.15837  : 0.44444 |\n",
            "|A Mukund        : -0.91559 : 0.49383 |\n",
            "|S Dhawan        : -0.3019  : 0.18    |\n",
            "|V Kohli         : 1.99946  : 0.46537 |\n",
            "|JJ Bumrah       : -0.45532 : 0.19753 |\n",
            "|MS Dhoni        : 1.72164  : 0.47232 |\n",
            "|KD Karthik      : -0.69104 : 0.48    |\n",
            "|Z Khan          : 0.75657  : 0.43388 |\n",
            "|A Mishra        : -0.04766 : 0.5     |\n",
            "|Harbhajan Singh : 1.07826  : 0.35124 |\n",
            "|PP Ojha         : -0.36935 : 0.49778 |\n",
            "|V Sehwag        : 0.59572  : 0.21875 |\n",
            "|I Sharma        : 1.23911  : 0.5     |\n",
            "|S Badrinath     : -1.01273 : 0.32    |\n",
            "|PP Chawla       : -1.49527 : 0.5     |\n",
            "|Yuvraj Singh    : -0.36935 : 0.32    |\n",
            "|A Kumble        : 0.11319  : 0.15278 |\n",
            "|R Vinay Kumar   : -1.49527 : 0.5     |\n",
            "|R Dravid        : 1.39995  : 0.32986 |\n",
            "|VVS Laxman      : 1.88249  : 0.33673 |\n",
            "|SK Raina        : -0.2085  : 0.375   |\n",
            "|SR Tendulkar    : 1.39995  : 0.32986 |\n",
            "|G Gambhir       : 0.43488  : 0.40123 |\n",
            "\n",
            "---------------------------------------\n",
            "|CONNECTOR 0                          |\n",
            "\n",
            "---------------------------------------\n",
            "|KINLESS 0                            |\n",
            "\n",
            "---------------------------------------\n",
            "HUBS\n",
            "---------------------------------------\n",
            "|PROVINCIAL 0                         |\n",
            "\n",
            "---------------------------------------\n",
            "|CONNECTOR 0                          |\n",
            "\n",
            "---------------------------------------\n",
            "|KINLESS 0                            |\n",
            "\n",
            "---------------------------------------\n"
          ],
          "name": "stdout"
        }
      ]
    },
    {
      "cell_type": "markdown",
      "metadata": {
        "id": "g9kWHYzU32Uc"
      },
      "source": [
        "### Australia"
      ]
    },
    {
      "cell_type": "code",
      "metadata": {
        "id": "KTS3ueh3335P",
        "outputId": "daadf9cb-475d-4a0e-d55c-2e08d979398a",
        "colab": {
          "base_uri": "https://localhost:8080/"
        }
      },
      "source": [
        "z, p = get_community_structure('australia', need_object=True)\n",
        "get_community_roles(z, p)"
      ],
      "execution_count": 40,
      "outputs": [
        {
          "output_type": "stream",
          "text": [
            "NON-HUBS\n",
            "---------------------------------------\n",
            "|ULTRA-PERIPHERAL 50                  |\n",
            "|CT Bancroft     : -0.74961 : 0.0     |\n",
            "|MS Harris       : -0.61497 : 0.0     |\n",
            "|AJ Finch        : -0.61497 : 0.0     |\n",
            "|JM Holland      : -1.01889 : 0.0     |\n",
            "|CJ Ferguson     : -1.42281 : 0.0     |\n",
            "|JA Richardson   : -1.42281 : 0.0     |\n",
            "|NJ Maddinson    : -1.15353 : 0.0     |\n",
            "|JM Mennie       : -1.42281 : 0.0     |\n",
            "|KR Patterson    : -0.88425 : 0.0     |\n",
            "|MT Renshaw      : -0.07642 : 0.0     |\n",
            "|SNJ O'Keefe     : -0.34569 : 0.0     |\n",
            "|HWR Cartwright  : -1.28817 : 0.0     |\n",
            "|CJ Sayers       : -1.28817 : 0.0     |\n",
            "|TM Head         : 0.46214  : 0.0     |\n",
            "|M Labuschagne   : 0.73142  : 0.0     |\n",
            "|PSP Handscomb   : 0.86606  : 0.0     |\n",
            "|BE McGain       : -0.94045 : 0.0     |\n",
            "|A Symonds       : 0.81624  : 0.0     |\n",
            "|PR George       : -0.94045 : 0.0     |\n",
            "|BJ Hodge        : -0.78075 : 0.0     |\n",
            "|B Lee           : 0.97594  : 0.0     |\n",
            "|B Casson        : -0.94045 : 0.0     |\n",
            "|SW Tait         : -1.10015 : 0.0     |\n",
            "|CL White        : -0.14195 : 0.0     |\n",
            "|AC Gilchrist    : -0.62105 : 0.0     |\n",
            "|ML Hayden       : -0.30165 : 0.0     |\n",
            "|GB Hogg         : -0.46135 : 0.0     |\n",
            "|CJ McKay        : -1.10015 : 0.0     |\n",
            "|SCG MacGill     : -0.94045 : 0.0     |\n",
            "|SM Katich       : 0.81624  : 0.0     |\n",
            "|GA Manou        : -0.62105 : 0.0     |\n",
            "|AJ Blackwell    : 1.84895  : 0.0     |\n",
            "|EA Osborne      : -0.24212 : 0.0     |\n",
            "|AJ Healy        : 0.5943   : 0.0     |\n",
            "|EJ Villani      : -1.07855 : 0.0     |\n",
            "|EA Perry        : 2.26716  : 0.0     |\n",
            "|BL Mooney       : 0.5943   : 0.0     |\n",
            "|SJ Coyte        : -1.07855 : 0.0     |\n",
            "|JE Cameron      : -0.66034 : 0.0     |\n",
            "|RL Haynes       : 0.17609  : 0.0     |\n",
            "|A Gardner       : -0.66034 : 0.0     |\n",
            "|JM Fields       : -0.66034 : 0.0     |\n",
            "|MM Lanning      : 0.5943   : 0.0     |\n",
            "|NE Bolton       : 0.5943   : 0.0     |\n",
            "|SJ Elliott      : -0.24212 : 0.0     |\n",
            "|KM Beams        : -0.66034 : 0.0     |\n",
            "|HL Ferling      : -1.07855 : 0.0     |\n",
            "|S Molineux      : -0.66034 : 0.0     |\n",
            "|JL Jonassen     : 1.43073  : 0.0     |\n",
            "|ML Schutt       : -1.07855 : 0.0     |\n",
            "\n",
            "---------------------------------------\n",
            "|PERIPHERAL 45                        |\n",
            "|UT Khawaja      : 1.00069  : 0.47194 |\n",
            "|JL Pattinson    : 0.05822  : 0.49861 |\n",
            "|JM Bird         : -0.74961 : 0.40625 |\n",
            "|JW Hastings     : -1.28817 : 0.44444 |\n",
            "|AC Agar         : -1.01889 : 0.44444 |\n",
            "|SE Marsh        : 1.26997  : 0.49805 |\n",
            "|MC Henriques    : -0.34569 : 0.29752 |\n",
            "|PM Nevill       : 0.19286  : 0.32031 |\n",
            "|SPD Smith       : 1.94317  : 0.485   |\n",
            "|TD Paine        : 0.59678  : 0.4608  |\n",
            "|NM Lyon         : 1.67389  : 0.47531 |\n",
            "|PJ Cummins      : 0.86606  : 0.09972 |\n",
            "|MR Marsh        : 1.26997  : 0.2784  |\n",
            "|PM Siddle       : 0.73142  : 0.57117 |\n",
            "|GJ Maxwell      : -0.21106 : 0.16529 |\n",
            "|JA Burns        : -0.21106 : 0.16529 |\n",
            "|JR Hazlewood    : 0.3275   : 0.12444 |\n",
            "|MA Starc        : 1.67389  : 0.42241 |\n",
            "|DA Warner       : 1.00069  : 0.48989 |\n",
            "|MS Wade         : 1.26997  : 0.39031 |\n",
            "|AC Voges        : 0.19286  : 0.42593 |\n",
            "|AB McDonald     : -0.46135 : 0.27778 |\n",
            "|EJM Cowan       : -0.14195 : 0.54167 |\n",
            "|JP Faulkner     : -0.78075 : 0.375   |\n",
            "|GJ Bailey       : -0.62105 : 0.5     |\n",
            "|RT Ponting      : 1.13564  : 0.375   |\n",
            "|BJ Haddin       : 1.93413  : 0.53224 |\n",
            "|MA Beer         : -1.10015 : 0.44444 |\n",
            "|RJ Quiney       : -1.10015 : 0.5     |\n",
            "|BW Hilfenhaus   : 0.49684  : 0.52632 |\n",
            "|MEK Hussey      : 1.93413  : 0.50781 |\n",
            "|NM Hauritz      : 0.81624  : 0.32031 |\n",
            "|XJ Doherty      : -0.62105 : 0.5     |\n",
            "|PJ Hughes       : 0.01774  : 0.49383 |\n",
            "|MJ North        : 0.97594  : 0.3045  |\n",
            "|MG Johnson      : 2.25353  : 0.53123 |\n",
            "|SR Clark        : 0.33714  : 0.16529 |\n",
            "|DE Bollinger    : -0.62105 : 0.4898  |\n",
            "|SR Watson       : 1.13564  : 0.48015 |\n",
            "|JJ Krejza       : -0.62105 : 0.32    |\n",
            "|PA Jaques       : -0.62105 : 0.32    |\n",
            "|MJ Clarke       : 1.93413  : 0.54054 |\n",
            "|CJL Rogers      : 1.0      : 0.58642 |\n",
            "|AJ Doolan       : -1.0     : 0.44444 |\n",
            "|RJ Harris       : 1.0      : 0.58642 |\n",
            "\n",
            "---------------------------------------\n",
            "|CONNECTOR 1                          |\n",
            "|TA Copeland     : -1.0     : 0.625   |\n",
            "\n",
            "---------------------------------------\n",
            "|KINLESS 0                            |\n",
            "\n",
            "---------------------------------------\n",
            "HUBS\n",
            "---------------------------------------\n",
            "|PROVINCIAL 0                         |\n",
            "\n",
            "---------------------------------------\n",
            "|CONNECTOR 0                          |\n",
            "\n",
            "---------------------------------------\n",
            "|KINLESS 0                            |\n",
            "\n",
            "---------------------------------------\n"
          ],
          "name": "stdout"
        }
      ]
    },
    {
      "cell_type": "markdown",
      "metadata": {
        "id": "KWVJ3goAs04R"
      },
      "source": [
        "# Weighted Directed BPN"
      ]
    },
    {
      "cell_type": "code",
      "metadata": {
        "id": "QDegkAJ1pSDh"
      },
      "source": [
        "def get_weighted_BPN(country='india'):\n",
        "    file_name = 'partnership_' + country + '.csv'\n",
        "    data = pd.read_csv(file_name)\n",
        "    \n",
        "    partnership_data = {}\n",
        "    for striker, non_striker, runs in zip(data['striker'], data['non_striker'], data['runs']):\n",
        "        forward = striker + '-' + non_striker\n",
        "        backward = non_striker + '-' + striker\n",
        "        if forward not in partnership_data:\n",
        "            partnership_data[forward] = 0\n",
        "            partnership_data[backward] = 0\n",
        "        partnership_data[forward] += runs\n",
        "        partnership_data[backward] += runs\n",
        "        \n",
        "    G = nx.DiGraph()\n",
        "    for striker, non_striker, runs in zip(data['striker'], data['non_striker'], data['runs']):\n",
        "        forward = striker + '-' + non_striker\n",
        "        n_striker = runs / max(1, partnership_data[forward])\n",
        "        G.add_edge(non_striker, striker, weight=n_striker)\n",
        "\n",
        "    return G"
      ],
      "execution_count": 35,
      "outputs": []
    },
    {
      "cell_type": "markdown",
      "metadata": {
        "id": "2gOlfift06NF"
      },
      "source": [
        "## BPN PageRank"
      ]
    },
    {
      "cell_type": "code",
      "metadata": {
        "id": "xYD_bPaezemK"
      },
      "source": [
        "def BPN_PageRank(country):\n",
        "    BPN_graph = get_weighted_BPN(country)\n",
        "\n",
        "    # this gives i->j convention\n",
        "    BPN_adj = nx.linalg.graphmatrix.adjacency_matrix(BPN_graph).todense()\n",
        "    BPN_D_inv = get_D_inv(BPN_graph)\n",
        "\n",
        "    scores, change = pageRank(BPN_adj, BPN_D_inv, 25, BPN_graph)\n",
        "\n",
        "    plt.plot(change)\n",
        "    plt.grid()\n",
        "    plt.xlabel('Iteration')\n",
        "    plt.ylabel('Difference')\n",
        "    plt.title('Convergence (BPN, {})'.format(country))\n",
        "    plt.show()\n",
        "\n",
        "    n = len(scores)\n",
        "    ranks = sorted(range(n), key=lambda x: scores[x], reverse=True)\n",
        "    batsmen = list(BPN_graph.nodes())\n",
        "    for i in range(25):\n",
        "        score = round(float(scores[ranks[i]]), 5)\n",
        "        score = str(score).ljust(5+2, '0')\n",
        "        rank = str(i+1).zfill(2)\n",
        "        batter = batsmen[ranks[i]]\n",
        "        print('Score {} : Rank {} : {}'.format(score, rank, batter))"
      ],
      "execution_count": 36,
      "outputs": []
    },
    {
      "cell_type": "markdown",
      "metadata": {
        "id": "V1k9BPwT2Qko"
      },
      "source": [
        "### India"
      ]
    },
    {
      "cell_type": "code",
      "metadata": {
        "id": "FLHgmpFx0SQQ",
        "outputId": "7d5bd8e2-20af-4ac6-a71c-1d653b15c20f",
        "colab": {
          "base_uri": "https://localhost:8080/",
          "height": 720
        }
      },
      "source": [
        "BPN_PageRank('india')"
      ],
      "execution_count": 37,
      "outputs": [
        {
          "output_type": "display_data",
          "data": {
            "image/png": "[encoded data removed]",
            "text/plain": [
              "<Figure size 432x288 with 1 Axes>"
            ]
          },
          "metadata": {
            "tags": [],
            "needs_background": "light"
          }
        },
        {
          "output_type": "stream",
          "text": [
            "Score 0.04193 : Rank 01 : V Kohli\n",
            "Score 0.03853 : Rank 02 : CA Pujara\n",
            "Score 0.03607 : Rank 03 : MS Dhoni\n",
            "Score 0.03192 : Rank 04 : VVS Laxman\n",
            "Score 0.03151 : Rank 05 : SR Tendulkar\n",
            "Score 0.03133 : Rank 06 : AM Rahane\n",
            "Score 0.02975 : Rank 07 : R Ashwin\n",
            "Score 0.02808 : Rank 08 : M Raj\n",
            "Score 0.02590 : Rank 09 : Harbhajan Singh\n",
            "Score 0.02449 : Rank 10 : RA Jadeja\n",
            "Score 0.02416 : Rank 11 : R Dravid\n",
            "Score 0.02404 : Rank 12 : KL Rahul\n",
            "Score 0.02359 : Rank 13 : I Sharma\n",
            "Score 0.02323 : Rank 14 : A Mishra\n",
            "Score 0.02284 : Rank 15 : S Pandey\n",
            "Score 0.02225 : Rank 16 : RG Sharma\n",
            "Score 0.02203 : Rank 17 : Z Khan\n",
            "Score 0.02190 : Rank 18 : S Mandhana\n",
            "Score 0.02098 : Rank 19 : V Sehwag\n",
            "Score 0.02005 : Rank 20 : M Vijay\n",
            "Score 0.01872 : Rank 21 : WP Saha\n",
            "Score 0.01777 : Rank 22 : G Gambhir\n",
            "Score 0.01697 : Rank 23 : RR Pant\n",
            "Score 0.01582 : Rank 24 : N Niranjana\n",
            "Score 0.01577 : Rank 25 : Mohammed Shami\n"
          ],
          "name": "stdout"
        }
      ]
    },
    {
      "cell_type": "markdown",
      "metadata": {
        "id": "1b3qLFhb2V4J"
      },
      "source": [
        "### Australia"
      ]
    },
    {
      "cell_type": "code",
      "metadata": {
        "id": "SLhezbDm2TxN",
        "outputId": "f6fbae51-6543-46cb-a703-dbc4a19d1db3",
        "colab": {
          "base_uri": "https://localhost:8080/",
          "height": 720
        }
      },
      "source": [
        "BPN_PageRank('australia')"
      ],
      "execution_count": 38,
      "outputs": [
        {
          "output_type": "display_data",
          "data": {
            "image/png": "[encoded data removed]",
            "text/plain": [
              "<Figure size 432x288 with 1 Axes>"
            ]
          },
          "metadata": {
            "tags": [],
            "needs_background": "light"
          }
        },
        {
          "output_type": "stream",
          "text": [
            "Score 0.03211 : Rank 01 : MJ Clarke\n",
            "Score 0.03124 : Rank 02 : SPD Smith\n",
            "Score 0.03092 : Rank 03 : MG Johnson\n",
            "Score 0.02763 : Rank 04 : BJ Haddin\n",
            "Score 0.02679 : Rank 05 : MEK Hussey\n",
            "Score 0.02501 : Rank 06 : MA Starc\n",
            "Score 0.02391 : Rank 07 : SE Marsh\n",
            "Score 0.02366 : Rank 08 : JL Jonassen\n",
            "Score 0.02340 : Rank 09 : PM Siddle\n",
            "Score 0.02163 : Rank 10 : UT Khawaja\n",
            "Score 0.02160 : Rank 11 : MS Wade\n",
            "Score 0.02152 : Rank 12 : DA Warner\n",
            "Score 0.02078 : Rank 13 : SR Watson\n",
            "Score 0.01984 : Rank 14 : NM Lyon\n",
            "Score 0.01929 : Rank 15 : AJ Blackwell\n",
            "Score 0.01863 : Rank 16 : EA Perry\n",
            "Score 0.01788 : Rank 17 : TD Paine\n",
            "Score 0.01788 : Rank 18 : MR Marsh\n",
            "Score 0.01722 : Rank 19 : BL Mooney\n",
            "Score 0.01694 : Rank 20 : AJ Healy\n",
            "Score 0.01682 : Rank 21 : RT Ponting\n",
            "Score 0.01594 : Rank 22 : CJL Rogers\n",
            "Score 0.01446 : Rank 23 : NM Hauritz\n",
            "Score 0.01426 : Rank 24 : AC Voges\n",
            "Score 0.01423 : Rank 25 : PSP Handscomb\n"
          ],
          "name": "stdout"
        }
      ]
    },
    {
      "cell_type": "code",
      "metadata": {
        "id": "puaRhmVp2ZKu"
      },
      "source": [
        ""
      ],
      "execution_count": 38,
      "outputs": []
    }
  ]
}